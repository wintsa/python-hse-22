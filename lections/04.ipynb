{
 "cells": [
  {
   "cell_type": "markdown",
   "metadata": {
    "id": "UHJYLZNEJt_Y"
   },
   "source": [
    "\n",
    "\n",
    "```\n",
    "# This is formatted as code\n",
    "```\n",
    "\n",
    "# Динамическое программирование"
   ]
  },
  {
   "cell_type": "markdown",
   "metadata": {
    "id": "CI5YgRD7Jt_b"
   },
   "source": [
    "## Числа Фибоначчи"
   ]
  },
  {
   "cell_type": "code",
   "execution_count": 25,
   "metadata": {},
   "outputs": [],
   "source": [
    "count = 0"
   ]
  },
  {
   "cell_type": "code",
   "execution_count": 6,
   "metadata": {
    "id": "IgJwcvJVJt_c"
   },
   "outputs": [],
   "source": [
    "def fib(n):\n",
    "    global count\n",
    "    count = count + 1\n",
    "    if n <= 1:\n",
    "        return 1\n",
    "    return fib(n-1) + fib(n-2)"
   ]
  },
  {
   "cell_type": "code",
   "execution_count": 12,
   "metadata": {
    "colab": {
     "base_uri": "https://localhost:8080/",
     "height": 35
    },
    "id": "yADd0vQOJt_f",
    "outputId": "c24a197a-9612-4860-b197-3554f3787986"
   },
   "outputs": [
    {
     "data": {
      "text/plain": [
       "[1, 1, 2, 3, 5, 8, 13, 21, 34, 55, 89]"
      ]
     },
     "execution_count": 12,
     "metadata": {},
     "output_type": "execute_result"
    }
   ],
   "source": [
    "[fib(n) for n in range(11)]"
   ]
  },
  {
   "cell_type": "code",
   "execution_count": 4,
   "metadata": {},
   "outputs": [
    {
     "data": {
      "text/plain": [
       "range(0, 10)"
      ]
     },
     "execution_count": 4,
     "metadata": {},
     "output_type": "execute_result"
    }
   ],
   "source": []
  },
  {
   "cell_type": "raw",
   "metadata": {},
   "source": []
  },
  {
   "cell_type": "code",
   "execution_count": 27,
   "metadata": {},
   "outputs": [
    {
     "data": {
      "text/plain": [
       "10"
      ]
     },
     "execution_count": 27,
     "metadata": {},
     "output_type": "execute_result"
    }
   ],
   "source": [
    "count"
   ]
  },
  {
   "cell_type": "markdown",
   "metadata": {
    "id": "ITawzp8DJt_j"
   },
   "source": [
    "Какая сложность? \n",
    "\n",
    "<!-- $O(2^n)$ -->\n"
   ]
  },
  {
   "cell_type": "markdown",
   "metadata": {
    "id": "RHWnlUgsJt_k"
   },
   "source": [
    "## top-down\n",
    "У нас уже есть рекурентная формула, осталось добавить мемоизацию (memoization)"
   ]
  },
  {
   "cell_type": "code",
   "execution_count": 18,
   "metadata": {
    "id": "3DTKMQ6HJt_l"
   },
   "outputs": [],
   "source": [
    "fibs = {}\n",
    "def fib(n):\n",
    "    if n <= 1:\n",
    "        return 1\n",
    "    global count\n",
    "    count = count + 1\n",
    "    if n not in fibs:\n",
    "        fibs[n] = fib(n-1) + fib(n-2)\n",
    "    return fibs[n]"
   ]
  },
  {
   "cell_type": "code",
   "execution_count": 20,
   "metadata": {
    "colab": {
     "base_uri": "https://localhost:8080/",
     "height": 35
    },
    "id": "gMo3tQf4Jt_n",
    "outputId": "8dde691f-4505-4df7-a1fa-2dc37a761dab"
   },
   "outputs": [
    {
     "data": {
      "text/plain": [
       "[1, 1, 2, 3, 5, 8, 13, 21, 34, 55]"
      ]
     },
     "execution_count": 20,
     "metadata": {},
     "output_type": "execute_result"
    }
   ],
   "source": [
    "[fib(n) for n in range(10)]"
   ]
  },
  {
   "cell_type": "markdown",
   "metadata": {
    "id": "siEj1RcUJt_p"
   },
   "source": [
    "Сложность $O(n)$ операций и $O(n)$ памяти"
   ]
  },
  {
   "cell_type": "markdown",
   "metadata": {
    "id": "ARuQIIL4Jt_q"
   },
   "source": [
    "## bottom-up\n",
    "Если мы знаем `fib(n-2)` и `fib(n-1)`, мы можем тривиально вычислить `fib(n)`"
   ]
  },
  {
   "cell_type": "code",
   "execution_count": 23,
   "metadata": {
    "id": "JIhpeGS-Jt_r"
   },
   "outputs": [],
   "source": [
    "def fib(n):\n",
    "    global count\n",
    "    count = count + 1\n",
    "    fibs = [0, 1]\n",
    "    for i in range(2,n+1):\n",
    "        fibs.append(fibs[i-1] + fibs[i-2])\n",
    "    return fibs[n]"
   ]
  },
  {
   "cell_type": "code",
   "execution_count": 26,
   "metadata": {
    "colab": {
     "base_uri": "https://localhost:8080/",
     "height": 35
    },
    "id": "Vy1Cn607Jt_t",
    "outputId": "378cd641-934c-455d-b742-80e26716c96f"
   },
   "outputs": [
    {
     "data": {
      "text/plain": [
       "[0, 1, 1, 2, 3, 5, 8, 13, 21, 34]"
      ]
     },
     "execution_count": 26,
     "metadata": {},
     "output_type": "execute_result"
    }
   ],
   "source": [
    "[fib(n) for n in range(10)]"
   ]
  },
  {
   "cell_type": "markdown",
   "metadata": {
    "id": "QDho13_-Jt_w"
   },
   "source": [
    "Сложность $O(n)$ операций и $O(n)$ памяти"
   ]
  },
  {
   "cell_type": "markdown",
   "metadata": {
    "id": "NxdfMDXbJt_w"
   },
   "source": [
    "## Уменьшение потребления памяти"
   ]
  },
  {
   "cell_type": "markdown",
   "metadata": {
    "id": "QaGGRxlXJt_x"
   },
   "source": [
    "После вычисления `fib(n)` мы больше не используем `fib(k)`, $k \\leq n-1$. Нам достаточно хранить `fib(n)` и `fib(n-1)`"
   ]
  },
  {
   "cell_type": "code",
   "execution_count": null,
   "metadata": {
    "id": "uoE7Z7EEJt_y"
   },
   "outputs": [],
   "source": [
    "def fib(n):\n",
    "    a = 0 # fib(i-2)\n",
    "    b = 1 # fib(i-1)\n",
    "    for i in range(2,n+1):\n",
    "        a, b = b, a+b\n",
    "    return b"
   ]
  },
  {
   "cell_type": "code",
   "execution_count": null,
   "metadata": {
    "colab": {
     "base_uri": "https://localhost:8080/",
     "height": 35
    },
    "id": "4XfQ8wM-Jt_0",
    "outputId": "35ed9a93-60a7-4f0a-8ef1-e7951c8ea9b3"
   },
   "outputs": [
    {
     "data": {
      "text/plain": [
       "[1, 1, 1, 2, 3, 5, 8, 13, 21, 34]"
      ]
     },
     "execution_count": 8,
     "metadata": {
      "tags": []
     },
     "output_type": "execute_result"
    }
   ],
   "source": [
    "[fib(n) for n in range(10)]"
   ]
  },
  {
   "cell_type": "markdown",
   "metadata": {
    "id": "sx5tIgkcJt_2"
   },
   "source": [
    "Сложность $O(n)$ операций и $O(1)$ памяти"
   ]
  },
  {
   "cell_type": "markdown",
   "metadata": {
    "id": "D1Lopc41Jt_3"
   },
   "source": [
    "# Размен\n",
    "Есть неограниченный запас монет номиналами $S_1, \\ldots, S_M$. Сколькими способами можно составить сумму N из них?"
   ]
  },
  {
   "cell_type": "code",
   "execution_count": 14,
   "metadata": {
    "id": "MyZjhzHHJt_4"
   },
   "outputs": [],
   "source": [
    "def coins(S, n, m = 0):\n",
    "    if n == 0:\n",
    "        return 1\n",
    "    if n < 0:\n",
    "        return 0\n",
    "    if m == len(S):\n",
    "        return 0\n",
    "    return coins(S, n, m+1) + coins(S, n-S[m], m)"
   ]
  },
  {
   "cell_type": "code",
   "execution_count": 16,
   "metadata": {
    "colab": {
     "base_uri": "https://localhost:8080/",
     "height": 35
    },
    "id": "WStOH-hEJt_6",
    "outputId": "6d506894-dad2-4f41-c66e-c58cd345c8d1"
   },
   "outputs": [
    {
     "data": {
      "text/plain": [
       "50"
      ]
     },
     "execution_count": 16,
     "metadata": {},
     "output_type": "execute_result"
    }
   ],
   "source": [
    "coins([1,2], 99)"
   ]
  },
  {
   "cell_type": "markdown",
   "metadata": {
    "id": "Ahqu6n1cJt_8"
   },
   "source": [
    "## top-down"
   ]
  },
  {
   "cell_type": "code",
   "execution_count": null,
   "metadata": {
    "id": "c8X9BDoxJt_9"
   },
   "outputs": [],
   "source": [
    "def coins(S, n, m = 0, tmp = {}):\n",
    "    if n == 0:\n",
    "        return 1\n",
    "    if n < 0:\n",
    "        return 0\n",
    "    if m == len(S):\n",
    "        return 0\n",
    "    if (n, m) not in tmp:\n",
    "        tmp[(n, m)] = coins(S, n, m+1, tmp) + coins(S, n-S[m], m, tmp)\n",
    "    return tmp[(n, m)]"
   ]
  },
  {
   "cell_type": "code",
   "execution_count": null,
   "metadata": {
    "colab": {
     "base_uri": "https://localhost:8080/",
     "height": 35
    },
    "id": "7RLV4SoZJt__",
    "outputId": "9f3f04ba-f967-4526-e1af-f159591b829b"
   },
   "outputs": [
    {
     "data": {
      "text/plain": [
       "2090"
      ]
     },
     "execution_count": 12,
     "metadata": {
      "tags": []
     },
     "output_type": "execute_result"
    }
   ],
   "source": [
    "coins([1,2,5,10], 99)"
   ]
  },
  {
   "cell_type": "markdown",
   "metadata": {
    "id": "-z3jkyjAJuAB"
   },
   "source": [
    "## bottom-up\n",
    "Выберем такой порядок вычисления:\n",
    "\n",
    "1. `coins(S, n, len(S)-1) for n in range(N+1)`\n",
    "2. `coins(S, n, len(S)-2) for n in range(N+1)`\n",
    "3. $\\ldots$\n",
    "4. `coins(S, n, 0) for n in range(N+1)`\n",
    "\n",
    "Для вычисления `coins(S, N, M)` мы должны знать `coins(S, n, M) for n in range(N)` и `coins(S, N, M + 1)`"
   ]
  },
  {
   "cell_type": "code",
   "execution_count": null,
   "metadata": {
    "id": "-jHbYYAkJuAC"
   },
   "outputs": [],
   "source": [
    "def coins(S, n):\n",
    "    table = [1] + [0]*n\n",
    "    for coin in S[::-1]:\n",
    "        for j in range(coin, n+1):\n",
    "            table[j] = table[j] + table[j - coin]\n",
    "    return table[n]"
   ]
  },
  {
   "cell_type": "code",
   "execution_count": null,
   "metadata": {
    "colab": {
     "base_uri": "https://localhost:8080/",
     "height": 35
    },
    "id": "_f3oF3SMJuAE",
    "outputId": "4d44679f-edce-4fac-f499-3230dc2a8f13"
   },
   "outputs": [
    {
     "data": {
      "text/plain": [
       "2090"
      ]
     },
     "execution_count": 14,
     "metadata": {
      "tags": []
     },
     "output_type": "execute_result"
    }
   ],
   "source": [
    "coins([1,2,5,10], 99)"
   ]
  },
  {
   "cell_type": "markdown",
   "metadata": {
    "id": "o4nw5snaJuAH"
   },
   "source": [
    "# Упаковка рюкзака\n",
    "Есть вещи с ценностью $v_1, \\ldots, v_N$ и весом $w_1, \\ldots, w_N$. Найти набор вещей общим весом не более $W$ с максимальной суммарной ценностью."
   ]
  },
  {
   "cell_type": "code",
   "execution_count": null,
   "metadata": {
    "id": "JE_yvbuFJuAH"
   },
   "outputs": [],
   "source": [
    "def knapsack(v, w, W, m = 0):\n",
    "    if m == len(w):\n",
    "        return 0\n",
    "    if w[m] > W:\n",
    "        return knapsack(v, w, W, m+1)\n",
    "    return max(knapsack(v, w, W, m+1), knapsack(v, w, W-w[m], m+1) + v[m])"
   ]
  },
  {
   "cell_type": "code",
   "execution_count": null,
   "metadata": {
    "colab": {
     "base_uri": "https://localhost:8080/",
     "height": 35
    },
    "id": "yp8529QtJuAK",
    "outputId": "d303e0bb-0e02-41ad-9279-22439a71c3c3"
   },
   "outputs": [
    {
     "data": {
      "text/plain": [
       "34"
      ]
     },
     "execution_count": 16,
     "metadata": {
      "tags": []
     },
     "output_type": "execute_result"
    }
   ],
   "source": [
    "knapsack([7, 9, 5, 12, 14, 6, 12], [3, 4, 2, 6, 7, 3, 5], 15)"
   ]
  },
  {
   "cell_type": "markdown",
   "metadata": {
    "id": "tl1_sX9FJuAN"
   },
   "source": [
    "# Наибольшая общая подпоследовательность\n",
    "Даны две строки $S$ и $T$. Найти наибольшее $k$, такое что существуют $i_1 < \\ldots < i_k$ и $j_1 < \\ldots < j_k$, такие что $S_{i_t} = T_{j_t}$."
   ]
  },
  {
   "cell_type": "code",
   "execution_count": null,
   "metadata": {
    "id": "tsO2xbxXJuAO"
   },
   "outputs": [],
   "source": [
    "def lcs(S, T): # Longest Common Subsequence\n",
    "    def do_lcs(n, m): # S[:n], T[:m]\n",
    "        if n == 0 or m == 0:\n",
    "            return 0\n",
    "        if S[n-1] == T[m-1]:\n",
    "            return 1 + do_lcs(n-1,m-1)\n",
    "        return max(do_lcs(n-1, m), do_lcs(n, m-1))\n",
    "    return do_lcs(len(S), len(T))"
   ]
  },
  {
   "cell_type": "code",
   "execution_count": null,
   "metadata": {
    "colab": {
     "base_uri": "https://localhost:8080/"
    },
    "id": "BXrGyYFWTYs-",
    "outputId": "beebbf74-f8d4-46e4-eebb-da7051930730"
   },
   "outputs": [
    {
     "data": {
      "text/plain": [
       "5"
      ]
     },
     "execution_count": 2,
     "metadata": {
      "tags": []
     },
     "output_type": "execute_result"
    }
   ],
   "source": [
    "lcs('ABCAC', 'ABCAC')"
   ]
  },
  {
   "cell_type": "code",
   "execution_count": null,
   "metadata": {
    "colab": {
     "base_uri": "https://localhost:8080/",
     "height": 35
    },
    "id": "743oa1amJuAR",
    "outputId": "1ecee84a-d55a-48b0-d2a8-82a5ce391b44"
   },
   "outputs": [
    {
     "data": {
      "text/plain": [
       "4"
      ]
     },
     "execution_count": 18,
     "metadata": {
      "tags": []
     },
     "output_type": "execute_result"
    }
   ],
   "source": [
    "lcs('ABAZDC', 'BACBAD')"
   ]
  },
  {
   "cell_type": "markdown",
   "metadata": {
    "id": "uOEdb91QJuAU"
   },
   "source": [
    "# Кратчайшие пути в графе\n",
    "Дан ориентрованный взвешенный граф, вес ребра из $i$ в $j$ равен $d_{ij}$. Найти длины кратчайших путей между каждой парой вершин $\\overline{d}_{ij}$."
   ]
  },
  {
   "cell_type": "markdown",
   "metadata": {
    "id": "7NdfVJUoJuAU"
   },
   "source": [
    "$d_{ij}^k = \\min \\left(d_{ij}^{k-1}, d_{ik}^{k-1} + d_{kj}^{k-1}\\right)$"
   ]
  },
  {
   "cell_type": "code",
   "execution_count": null,
   "metadata": {
    "id": "UZQfkE8jJuAV"
   },
   "outputs": [],
   "source": [
    "def distances(d):\n",
    "    N = len(d)\n",
    "    for k in range(N):\n",
    "        for i in range(N):\n",
    "            for j in range(N):\n",
    "                d[i][j] = min(d[i][j], d[i][k] + d[k][j])\n",
    "    return d"
   ]
  },
  {
   "cell_type": "code",
   "execution_count": null,
   "metadata": {
    "colab": {
     "base_uri": "https://localhost:8080/",
     "height": 35
    },
    "id": "fjkJjyoGJuAX",
    "outputId": "98555891-ec99-45aa-f59a-c6d18ac486e6"
   },
   "outputs": [
    {
     "data": {
      "text/plain": [
       "[[0, 3, 4], [2, 0, 1], [1, 2, 0]]"
      ]
     },
     "execution_count": 20,
     "metadata": {
      "tags": []
     },
     "output_type": "execute_result"
    }
   ],
   "source": [
    "distances([[0,3,5], [2,0,1], [1,2,0]])"
   ]
  }
 ],
 "metadata": {
  "colab": {
   "collapsed_sections": [],
   "provenance": []
  },
  "kernelspec": {
   "display_name": "Python 3",
   "language": "python",
   "name": "python3"
  },
  "language_info": {
   "codemirror_mode": {
    "name": "ipython",
    "version": 3
   },
   "file_extension": ".py",
   "mimetype": "text/x-python",
   "name": "python",
   "nbconvert_exporter": "python",
   "pygments_lexer": "ipython3",
   "version": "3.8.5"
  }
 },
 "nbformat": 4,
 "nbformat_minor": 1
}
